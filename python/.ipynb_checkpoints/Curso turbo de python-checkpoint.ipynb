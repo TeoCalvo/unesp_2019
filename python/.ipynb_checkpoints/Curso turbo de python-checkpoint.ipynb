{
 "cells": [
  {
   "cell_type": "markdown",
   "metadata": {},
   "source": [
    "# Notebook Turbo de Python\n",
    "\n",
    "## Uma breve introdução ao python.\n",
    "\n",
    "Vamos conhecer todas as estruturas básicas da linguagem. Tudo o que é necessário para escrever programas funcionais.\n",
    "\n",
    "## Tipos de dados\n",
    "\n",
    "Vamos dar olá para o mundo..."
   ]
  },
  {
   "cell_type": "code",
   "execution_count": 1,
   "metadata": {},
   "outputs": [
    {
     "name": "stdout",
     "output_type": "stream",
     "text": [
      "Olá mundo!!\n"
     ]
    }
   ],
   "source": [
    "print(\"Olá mundo!!\")"
   ]
  },
  {
   "cell_type": "markdown",
   "metadata": {},
   "source": [
    "### Como pedir informação para o usuário??"
   ]
  },
  {
   "cell_type": "code",
   "execution_count": 3,
   "metadata": {},
   "outputs": [
    {
     "name": "stdout",
     "output_type": "stream",
     "text": [
      "Qual o seu nome? teo calvo\n"
     ]
    }
   ],
   "source": [
    "nome = input(\"Qual o seu nome? \")"
   ]
  },
  {
   "cell_type": "markdown",
   "metadata": {},
   "source": [
    "### Toda informação que é requisitada pelo usuário é do tipo STRING\n",
    "\n",
    "Ou seja, mesmo que o usuário coloque um número, o mesmo é tratado como texto. Assim que desejemos obter a idade do indivíduo, precisamos converter para INTEIRO."
   ]
  },
  {
   "cell_type": "code",
   "execution_count": 4,
   "metadata": {},
   "outputs": [
    {
     "name": "stdout",
     "output_type": "stream",
     "text": [
      "Qual sua idade? 15\n"
     ]
    }
   ],
   "source": [
    "idade = input(\"Qual sua idade? \")\n",
    "idade = int(idade)"
   ]
  }
 ],
 "metadata": {
  "file_extension": ".py",
  "kernelspec": {
   "display_name": "Python 3",
   "language": "python",
   "name": "python3"
  },
  "language_info": {
   "codemirror_mode": {
    "name": "ipython",
    "version": 3
   },
   "file_extension": ".py",
   "mimetype": "text/x-python",
   "name": "python",
   "nbconvert_exporter": "python",
   "pygments_lexer": "ipython3",
   "version": "3.7.3"
  },
  "mimetype": "text/x-python",
  "name": "python",
  "npconvert_exporter": "python",
  "pygments_lexer": "ipython3",
  "version": 3
 },
 "nbformat": 4,
 "nbformat_minor": 2
}
